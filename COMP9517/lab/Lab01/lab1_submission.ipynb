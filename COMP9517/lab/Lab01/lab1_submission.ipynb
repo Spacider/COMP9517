{
 "metadata": {
  "language_info": {
   "codemirror_mode": {
    "name": "ipython",
    "version": 3
   },
   "file_extension": ".py",
   "mimetype": "text/x-python",
   "name": "python",
   "nbconvert_exporter": "python",
   "pygments_lexer": "ipython3",
   "version": "3.7.6-final"
  },
  "orig_nbformat": 2,
  "kernelspec": {
   "name": "python3",
   "display_name": "Python 3.7.6 64-bit",
   "metadata": {
    "interpreter": {
     "hash": "df955ce39d0f31d56d4bb2fe0a613e5326ba60723fd33d8303a3aede8f65715c"
    }
   }
  }
 },
 "nbformat": 4,
 "nbformat_minor": 2,
 "cells": [
  {
   "source": [
    "## COMP9517 La1"
   ],
   "cell_type": "markdown",
   "metadata": {}
  },
  {
   "source": [
    "### Tool functions and imports"
   ],
   "cell_type": "markdown",
   "metadata": {}
  },
  {
   "cell_type": "code",
   "execution_count": 67,
   "metadata": {},
   "outputs": [],
   "source": [
    "import numpy as np\n",
    "import cv2\n",
    "import matplotlib.pyplot as plt\n",
    "\n",
    "def plot_images(titiles, images, row, col):\n",
    "    figure = plt.figure()\n",
    "    for i in range(len(titiles)):\n",
    "        pic = figure.add_subplot(row, col, i + 1)\n",
    "        # images[i] = cv2.cvtColor(images[i], cv2.COLOR_BGR2RGB)\n",
    "        plt.imshow(images[i], cmap='gray', vmin=0, vmax=255)\n",
    "        pic.set_title(titiles[i])\n",
    "        pic.set_axis_off()\n",
    "    plt.show()\n",
    "\n",
    "# import image\n",
    "img = cv2.imread('cat.png', cv2.IMREAD_GRAYSCALE)"
   ]
  },
  {
   "source": [
    "### Question 4 Images Edge\n"
   ],
   "cell_type": "markdown",
   "metadata": {}
  },
  {
   "cell_type": "code",
   "execution_count": 68,
   "metadata": {},
   "outputs": [],
   "source": [
    "'''\n",
    "obtain image performed contarst stretching from Q1\n",
    "'''\n",
    "# compute new image(performed contrast stretching)\n",
    "a = 0\n",
    "b = 255\n",
    "# got the min and max pixel values\n",
    "c = np.min(img)\n",
    "d = np.max(img)\n",
    "q1_image = (img - c) * ((b - a)/ (d - c)) + a\n",
    "q1_image = q1_image.astype(np.uint8)\n",
    "'''\n",
    "obain image that applies median filter from Q3\n",
    "'''\n",
    "image_medium = cv2.medianBlur(q1_image, 5)"
   ]
  },
  {
   "cell_type": "code",
   "execution_count": null,
   "metadata": {},
   "outputs": [],
   "source": []
  },
  {
   "cell_type": "code",
   "execution_count": 69,
   "metadata": {},
   "outputs": [
    {
     "output_type": "error",
     "ename": "SyntaxError",
     "evalue": "positional argument follows keyword argument (<ipython-input-69-158496e1ac02>, line 9)",
     "traceback": [
      "\u001b[0;36m  File \u001b[0;32m\"<ipython-input-69-158496e1ac02>\"\u001b[0;36m, line \u001b[0;32m9\u001b[0m\n\u001b[0;31m    gradients_y = cv2.filter2D(image_medium, ddepth = -1, F_y)\u001b[0m\n\u001b[0m                                                         ^\u001b[0m\n\u001b[0;31mSyntaxError\u001b[0m\u001b[0;31m:\u001b[0m positional argument follows keyword argument\n"
     ]
    }
   ],
   "source": [
    "# Without using sobel build-in functions\n",
    "# 1. define 2D filter\n",
    "F_x = np.array([[-1, 0, 1], [-2, 0, 2], [-1, 0, 1]], dtype=\"float32\")\n",
    "F_y = np.array([[-1, -2, -1], [0, 0, 0], [1, 2, 1]], dtype=\"float32\")  \n",
    "# 2. perform convolution between the image and F_x to obtain the gradients at x direction\n",
    "gradients_x = cv2.filter2D(image_medium, -1, F_x)\n",
    "gradients_x = cv2.convertScaleAbs(gradients_x)\n",
    "# 3. similarly perform at y\n",
    "gradients_y = cv2.filter2D(image_medium, ddepth = -1, F_y)\n",
    "gradients_y = cv2.convertScaleAbs(gradients_y)\n",
    "my_sobel = cv2.addWeighted(gradients_x, 0.5, gradients_y, 0.5, 0)\n",
    "cv2.imwrite('my_sobel_x.png', gradients_x)\n",
    "cv2.imwrite('my_sobel_y.png', gradients_y)\n",
    "cv2.imwrite('my_sobel.png', my_sobel)\n",
    "\n",
    "# using sobel build-in fuctions\n",
    "sobel_x = cv2.Sobel(image_medium, cv2.CV_64F, 1, 0, ksize = 3)\n",
    "sobel_x = cv2.convertScaleAbs(sobel_x)\n",
    "sobel_y = cv2.Sobel(image_medium, cv2.CV_64F, 0, 1, ksize = 3)\n",
    "sobel_y = cv2.convertScaleAbs(sobel_y)\n",
    "sobel = cv2.addWeighted(sobel_x, 0.5, sobel_y, 0.5, 0)\n",
    "cv2.imwrite('sobel_x.png', sobel_x)\n",
    "cv2.imwrite('sobel_y.png', sobel_y)\n",
    "cv2.imwrite('sobel.png', sobel)\n",
    "\n",
    "# plot the images\n",
    "titiles = ['my_sobel_x', 'my_sobel_y', 'Sobel_x', 'Sobel_y', 'my_sobel', 'sobel']\n",
    "images = [gradients_x, gradients_y, sobel_x, sobel_y, my_sobel, sobel]\n",
    "plot_images(titiles, images, 3, 2)\n",
    "\n",
    "\n",
    "\n",
    "cv2.destroyAllWindows()"
   ]
  },
  {
   "cell_type": "code",
   "execution_count": null,
   "metadata": {},
   "outputs": [],
   "source": []
  }
 ]
}