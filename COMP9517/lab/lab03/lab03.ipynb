{
 "metadata": {
  "language_info": {
   "codemirror_mode": {
    "name": "ipython",
    "version": 3
   },
   "file_extension": ".py",
   "mimetype": "text/x-python",
   "name": "python",
   "nbconvert_exporter": "python",
   "pygments_lexer": "ipython3",
   "version": "3.8.6-final"
  },
  "orig_nbformat": 2,
  "kernelspec": {
   "name": "python3",
   "display_name": "Python 3.8.6 64-bit",
   "metadata": {
    "interpreter": {
     "hash": "95ff3d4f93d3a3dc7fbd9103a7c421924d916ff3ec6417f682ece3c84e2b1df5"
    }
   }
  }
 },
 "nbformat": 4,
 "nbformat_minor": 2,
 "cells": [
  {
   "cell_type": "code",
   "execution_count": 81,
   "metadata": {},
   "outputs": [],
   "source": [
    "# import nesscessary library\n",
    "import tensorflow as tf\n",
    "from tensorflow import keras\n",
    "import numpy as np\n",
    "\n",
    "import sklearn\n",
    "from sklearn.model_selection import GridSearchCV\n",
    "from sklearn.neighbors import KNeighborsClassifier\n",
    "from sklearn.linear_model import SGDClassifier\n",
    "from sklearn.tree import DecisionTreeClassifier\n",
    "from sklearn.metrics import accuracy_score, confusion_matrix, recall_score"
   ]
  },
  {
   "cell_type": "code",
   "execution_count": 82,
   "metadata": {},
   "outputs": [
    {
     "output_type": "stream",
     "name": "stdout",
     "text": [
      "GPU info: /device:GPU:0\nTensorflow verion is 2.2.0\nSklearn verion is 0.24.1\n"
     ]
    }
   ],
   "source": [
    "# the environment uses CUDA 10.1 Tensorflow 2.2.0 sklearn \n",
    "print(\"GPU info:\", tf.test.gpu_device_name())\n",
    "print(\"Tensorflow verion is {}\".format(tf.__version__))\n",
    "print(\"Sklearn verion is {}\".format(sklearn.__version__))"
   ]
  },
  {
   "cell_type": "code",
   "execution_count": 83,
   "metadata": {},
   "outputs": [],
   "source": [
    "# download and load dataset from tensorflow\n",
    "fashion_mnist = keras.datasets.fashion_mnist\n",
    "(train_images, train_labels), (test_images, test_labels) = fashion_mnist.load_data()\n",
    "# take a subset of the dataset\n",
    "train_images, train_labels = train_images[0:2000], train_labels[0:2000]\n",
    "test_images, test_labels = test_images[0:500], test_labels[0:500]"
   ]
  },
  {
   "cell_type": "code",
   "execution_count": 84,
   "metadata": {},
   "outputs": [],
   "source": [
    "# reshape the dataset for aforementioned classifiers\n",
    "# all of KNN, SGD, Descision Tree classifiers accept lower than 2-dim dataset\n",
    "# so we need to reduce dimmension to 2\n",
    "# first dim means number of the images\n",
    "# second dim means true image data\n",
    "train_images = train_images.reshape(2000, 784)\n",
    "test_images = test_images.reshape(500, 784)"
   ]
  },
  {
   "cell_type": "code",
   "execution_count": 85,
   "metadata": {},
   "outputs": [
    {
     "output_type": "stream",
     "name": "stdout",
     "text": [
      "KNN Accuracy:  0.792 \t Recall: 0.801 \nKNN confusion Matrix\n[[46  1  2  1  0  0  5  0  0  0]\n [ 0 51  0  1  0  0  0  0  0  0]\n [ 3  0 43  1  9  0  9  0  0  0]\n [ 3  2  0 37  2  0  2  0  0  0]\n [ 1  1 10  4 31  0 10  0  0  0]\n [ 0  0  1  0  0 33  0  3  0  2]\n [ 6  0 12  2  2  0 25  0  0  0]\n [ 0  0  0  0  0  2  0 43  0  2]\n [ 1  0  2  0  0  0  0  0 41  0]\n [ 0  0  0  0  0  0  0  2  0 46]]\n"
     ]
    }
   ],
   "source": [
    "# KNN \n",
    "# initialize models\n",
    "clf_knn = KNeighborsClassifier(n_neighbors = 3)\n",
    "# fit models to training data\n",
    "clf_knn.fit(train_images, train_labels)\n",
    "# evaluate the test data(make predictions)\n",
    "knn_predictions = clf_knn.predict(test_images)\n",
    "knn_accuracy = accuracy_score(test_labels, knn_predictions)\n",
    "recall = recall_score(test_labels, knn_predictions, average = 'macro')\n",
    "con_mat = confusion_matrix(test_labels, knn_predictions)\n",
    "\n",
    "print(\"KNN Accuracy:  %0.3f \\t Recall: %0.3f \" % (knn_accuracy, recall))\n",
    "print(\"KNN confusion Matrix\")\n",
    "print(con_mat)"
   ]
  },
  {
   "cell_type": "code",
   "execution_count": 86,
   "metadata": {},
   "outputs": [
    {
     "output_type": "stream",
     "name": "stdout",
     "text": [
      "SGD Accuracy:  0.786 \t Recall: 0.794 \nSGD confusion Matrix\n[[52  0  0  1  0  0  2  0  0  0]\n [ 1 50  0  1  0  0  0  0  0  0]\n [ 2  0 43  2  8  0 10  0  0  0]\n [ 3  0  0 39  0  0  3  0  1  0]\n [ 1  0 16  4 29  0  6  1  0  0]\n [ 0  0  1  0  0 32  0  5  0  1]\n [12  0  6  4  0  0 24  0  1  0]\n [ 0  0  0  0  0  0  0 46  0  1]\n [ 0  0  0  1  0  0  3  0 40  0]\n [ 0  0  0  0  0  0  0 10  0 38]]\n"
     ]
    }
   ],
   "source": [
    "# SGD\n",
    "# initialize models\n",
    "clf_sgd = SGDClassifier(max_iter=250)\n",
    "# fit models to training data\n",
    "clf_sgd.fit(train_images, train_labels)\n",
    "# evaluate the test data(make predictions)\n",
    "sgd_predictions = clf_sgd.predict(test_images)\n",
    "sgd_accuracy = accuracy_score(test_labels, sgd_predictions)\n",
    "recall = recall_score(test_labels, sgd_predictions, average = 'macro')\n",
    "con_mat = confusion_matrix(test_labels, sgd_predictions)\n",
    "\n",
    "print(\"SGD Accuracy:  %0.3f \\t Recall: %0.3f \" % (sgd_accuracy, recall))\n",
    "print(\"SGD confusion Matrix\")\n",
    "print(con_mat)"
   ]
  },
  {
   "cell_type": "code",
   "execution_count": 87,
   "metadata": {},
   "outputs": [
    {
     "output_type": "stream",
     "name": "stdout",
     "text": [
      "Decision Tree Accuracy:  0.708 \t Recall: 0.723 \nDecision Tree confusion Matrix\n[[42  2  0  3  1  0  7  0  0  0]\n [ 1 46  0  4  0  0  1  0  0  0]\n [ 2  0 32  2 10  4 13  0  2  0]\n [ 1  1  0 36  1  0  6  0  1  0]\n [ 1  1 15  5 22  1 10  0  2  0]\n [ 0  0  0  0  0 33  0  3  1  2]\n [ 3  0  7  8  5  0 23  0  1  0]\n [ 0  0  0  0  0  0  0 45  0  2]\n [ 1  0  1  0  2  0  1  2 35  2]\n [ 0  0  0  0  0  2  0  6  0 40]]\n"
     ]
    }
   ],
   "source": [
    "# Decision Tree\n",
    "# initialize models\n",
    "clf_dt = DecisionTreeClassifier()\n",
    "# fit models to training data\n",
    "clf_dt.fit(train_images, train_labels)\n",
    "# evaluate the test data(make predictions)\n",
    "dt_predictions = clf_dt.predict(test_images)\n",
    "dt_accuracy = accuracy_score(test_labels, dt_predictions)\n",
    "recall = recall_score(test_labels, dt_predictions, average = 'macro')\n",
    "con_mat = confusion_matrix(test_labels, dt_predictions)\n",
    "\n",
    "print(\"Decision Tree Accuracy:  %0.3f \\t Recall: %0.3f \" % (dt_accuracy, recall))\n",
    "print(\"Decision Tree confusion Matrix\")\n",
    "print(con_mat)"
   ]
  }
 ]
}